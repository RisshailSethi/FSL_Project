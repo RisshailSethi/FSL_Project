{
 "cells": [
  {
   "cell_type": "markdown",
   "id": "8b163ee1",
   "metadata": {},
   "source": [
    "# Report"
   ]
  },
  {
   "cell_type": "code",
   "execution_count": 1,
   "id": "88dc7676",
   "metadata": {},
   "outputs": [],
   "source": [
    "# This product uses the FRED® API but is not endorsed or certified by the Federal Reserve Bank of St. Louis\n",
    "# import required python libraries\n",
    "\n",
    "import pandas as pd\n",
    "from functools import reduce\n",
    "import numpy as np\n",
    "import seaborn as sns\n",
    "from datetime import *\n",
    "import datetime as dt\n",
    "import matplotlib.pyplot as plt\n",
    "import statsmodels.api as sm\n",
    "from sklearn.linear_model import LinearRegression\n",
    "from sklearn.metrics import mean_squared_error\n",
    "from sklearn.metrics import accuracy_score\n",
    "from fredapi import Fred\n",
    "fred = Fred(api_key='03f93d3b6b484b4d658e5e7f044fd3fb')\n",
    "# API key needs to be requested on the FRED data base\n",
    "\n",
    "# disable warnings \n",
    "import warnings\n",
    "warnings.filterwarnings('ignore')"
   ]
  },
  {
   "cell_type": "markdown",
   "id": "eee92f3b",
   "metadata": {},
   "source": [
    "### Extracting Data"
   ]
  },
  {
   "cell_type": "code",
   "execution_count": 2,
   "id": "e51f66c5",
   "metadata": {},
   "outputs": [
    {
     "ename": "FileNotFoundError",
     "evalue": "[Errno 2] No such file or directory: '/Users/risshail/Downloads/Target_Variable_Risshail.xlsx'",
     "output_type": "error",
     "traceback": [
      "\u001b[0;31m---------------------------------------------------------------------------\u001b[0m",
      "\u001b[0;31mFileNotFoundError\u001b[0m                         Traceback (most recent call last)",
      "Input \u001b[0;32mIn [2]\u001b[0m, in \u001b[0;36m<cell line: 17>\u001b[0;34m()\u001b[0m\n\u001b[1;32m     13\u001b[0m macro_indicators \u001b[38;5;241m=\u001b[39m [GDP, unemployment_rate, mortgage_rate, CPI, Tbill_year, \n\u001b[1;32m     14\u001b[0m                     HPI, ic, disp_inc, consumer_con, business_con]\n\u001b[1;32m     16\u001b[0m \u001b[38;5;66;03m# read in target data\u001b[39;00m\n\u001b[0;32m---> 17\u001b[0m target \u001b[38;5;241m=\u001b[39m \u001b[43mpd\u001b[49m\u001b[38;5;241;43m.\u001b[39;49m\u001b[43mread_excel\u001b[49m\u001b[43m(\u001b[49m\u001b[38;5;124;43m'\u001b[39;49m\u001b[38;5;124;43m/Users/risshail/Downloads/Target_Variable_Risshail.xlsx\u001b[39;49m\u001b[38;5;124;43m'\u001b[39;49m\u001b[43m,\u001b[49m\u001b[43msheet_name\u001b[49m\u001b[38;5;241;43m=\u001b[39;49m\u001b[38;5;124;43m'\u001b[39;49m\u001b[38;5;124;43mSheet1\u001b[39;49m\u001b[38;5;124;43m'\u001b[39;49m\u001b[43m)\u001b[49m\n",
      "File \u001b[0;32m~/opt/anaconda3/lib/python3.9/site-packages/pandas/util/_decorators.py:311\u001b[0m, in \u001b[0;36mdeprecate_nonkeyword_arguments.<locals>.decorate.<locals>.wrapper\u001b[0;34m(*args, **kwargs)\u001b[0m\n\u001b[1;32m    305\u001b[0m \u001b[38;5;28;01mif\u001b[39;00m \u001b[38;5;28mlen\u001b[39m(args) \u001b[38;5;241m>\u001b[39m num_allow_args:\n\u001b[1;32m    306\u001b[0m     warnings\u001b[38;5;241m.\u001b[39mwarn(\n\u001b[1;32m    307\u001b[0m         msg\u001b[38;5;241m.\u001b[39mformat(arguments\u001b[38;5;241m=\u001b[39marguments),\n\u001b[1;32m    308\u001b[0m         \u001b[38;5;167;01mFutureWarning\u001b[39;00m,\n\u001b[1;32m    309\u001b[0m         stacklevel\u001b[38;5;241m=\u001b[39mstacklevel,\n\u001b[1;32m    310\u001b[0m     )\n\u001b[0;32m--> 311\u001b[0m \u001b[38;5;28;01mreturn\u001b[39;00m \u001b[43mfunc\u001b[49m\u001b[43m(\u001b[49m\u001b[38;5;241;43m*\u001b[39;49m\u001b[43margs\u001b[49m\u001b[43m,\u001b[49m\u001b[43m \u001b[49m\u001b[38;5;241;43m*\u001b[39;49m\u001b[38;5;241;43m*\u001b[39;49m\u001b[43mkwargs\u001b[49m\u001b[43m)\u001b[49m\n",
      "File \u001b[0;32m~/opt/anaconda3/lib/python3.9/site-packages/pandas/io/excel/_base.py:457\u001b[0m, in \u001b[0;36mread_excel\u001b[0;34m(io, sheet_name, header, names, index_col, usecols, squeeze, dtype, engine, converters, true_values, false_values, skiprows, nrows, na_values, keep_default_na, na_filter, verbose, parse_dates, date_parser, thousands, decimal, comment, skipfooter, convert_float, mangle_dupe_cols, storage_options)\u001b[0m\n\u001b[1;32m    455\u001b[0m \u001b[38;5;28;01mif\u001b[39;00m \u001b[38;5;129;01mnot\u001b[39;00m \u001b[38;5;28misinstance\u001b[39m(io, ExcelFile):\n\u001b[1;32m    456\u001b[0m     should_close \u001b[38;5;241m=\u001b[39m \u001b[38;5;28;01mTrue\u001b[39;00m\n\u001b[0;32m--> 457\u001b[0m     io \u001b[38;5;241m=\u001b[39m \u001b[43mExcelFile\u001b[49m\u001b[43m(\u001b[49m\u001b[43mio\u001b[49m\u001b[43m,\u001b[49m\u001b[43m \u001b[49m\u001b[43mstorage_options\u001b[49m\u001b[38;5;241;43m=\u001b[39;49m\u001b[43mstorage_options\u001b[49m\u001b[43m,\u001b[49m\u001b[43m \u001b[49m\u001b[43mengine\u001b[49m\u001b[38;5;241;43m=\u001b[39;49m\u001b[43mengine\u001b[49m\u001b[43m)\u001b[49m\n\u001b[1;32m    458\u001b[0m \u001b[38;5;28;01melif\u001b[39;00m engine \u001b[38;5;129;01mand\u001b[39;00m engine \u001b[38;5;241m!=\u001b[39m io\u001b[38;5;241m.\u001b[39mengine:\n\u001b[1;32m    459\u001b[0m     \u001b[38;5;28;01mraise\u001b[39;00m \u001b[38;5;167;01mValueError\u001b[39;00m(\n\u001b[1;32m    460\u001b[0m         \u001b[38;5;124m\"\u001b[39m\u001b[38;5;124mEngine should not be specified when passing \u001b[39m\u001b[38;5;124m\"\u001b[39m\n\u001b[1;32m    461\u001b[0m         \u001b[38;5;124m\"\u001b[39m\u001b[38;5;124man ExcelFile - ExcelFile already has the engine set\u001b[39m\u001b[38;5;124m\"\u001b[39m\n\u001b[1;32m    462\u001b[0m     )\n",
      "File \u001b[0;32m~/opt/anaconda3/lib/python3.9/site-packages/pandas/io/excel/_base.py:1376\u001b[0m, in \u001b[0;36mExcelFile.__init__\u001b[0;34m(self, path_or_buffer, engine, storage_options)\u001b[0m\n\u001b[1;32m   1374\u001b[0m     ext \u001b[38;5;241m=\u001b[39m \u001b[38;5;124m\"\u001b[39m\u001b[38;5;124mxls\u001b[39m\u001b[38;5;124m\"\u001b[39m\n\u001b[1;32m   1375\u001b[0m \u001b[38;5;28;01melse\u001b[39;00m:\n\u001b[0;32m-> 1376\u001b[0m     ext \u001b[38;5;241m=\u001b[39m \u001b[43minspect_excel_format\u001b[49m\u001b[43m(\u001b[49m\n\u001b[1;32m   1377\u001b[0m \u001b[43m        \u001b[49m\u001b[43mcontent_or_path\u001b[49m\u001b[38;5;241;43m=\u001b[39;49m\u001b[43mpath_or_buffer\u001b[49m\u001b[43m,\u001b[49m\u001b[43m \u001b[49m\u001b[43mstorage_options\u001b[49m\u001b[38;5;241;43m=\u001b[39;49m\u001b[43mstorage_options\u001b[49m\n\u001b[1;32m   1378\u001b[0m \u001b[43m    \u001b[49m\u001b[43m)\u001b[49m\n\u001b[1;32m   1379\u001b[0m     \u001b[38;5;28;01mif\u001b[39;00m ext \u001b[38;5;129;01mis\u001b[39;00m \u001b[38;5;28;01mNone\u001b[39;00m:\n\u001b[1;32m   1380\u001b[0m         \u001b[38;5;28;01mraise\u001b[39;00m \u001b[38;5;167;01mValueError\u001b[39;00m(\n\u001b[1;32m   1381\u001b[0m             \u001b[38;5;124m\"\u001b[39m\u001b[38;5;124mExcel file format cannot be determined, you must specify \u001b[39m\u001b[38;5;124m\"\u001b[39m\n\u001b[1;32m   1382\u001b[0m             \u001b[38;5;124m\"\u001b[39m\u001b[38;5;124man engine manually.\u001b[39m\u001b[38;5;124m\"\u001b[39m\n\u001b[1;32m   1383\u001b[0m         )\n",
      "File \u001b[0;32m~/opt/anaconda3/lib/python3.9/site-packages/pandas/io/excel/_base.py:1250\u001b[0m, in \u001b[0;36minspect_excel_format\u001b[0;34m(content_or_path, storage_options)\u001b[0m\n\u001b[1;32m   1247\u001b[0m \u001b[38;5;28;01mif\u001b[39;00m \u001b[38;5;28misinstance\u001b[39m(content_or_path, \u001b[38;5;28mbytes\u001b[39m):\n\u001b[1;32m   1248\u001b[0m     content_or_path \u001b[38;5;241m=\u001b[39m BytesIO(content_or_path)\n\u001b[0;32m-> 1250\u001b[0m \u001b[38;5;28;01mwith\u001b[39;00m \u001b[43mget_handle\u001b[49m\u001b[43m(\u001b[49m\n\u001b[1;32m   1251\u001b[0m \u001b[43m    \u001b[49m\u001b[43mcontent_or_path\u001b[49m\u001b[43m,\u001b[49m\u001b[43m \u001b[49m\u001b[38;5;124;43m\"\u001b[39;49m\u001b[38;5;124;43mrb\u001b[39;49m\u001b[38;5;124;43m\"\u001b[39;49m\u001b[43m,\u001b[49m\u001b[43m \u001b[49m\u001b[43mstorage_options\u001b[49m\u001b[38;5;241;43m=\u001b[39;49m\u001b[43mstorage_options\u001b[49m\u001b[43m,\u001b[49m\u001b[43m \u001b[49m\u001b[43mis_text\u001b[49m\u001b[38;5;241;43m=\u001b[39;49m\u001b[38;5;28;43;01mFalse\u001b[39;49;00m\n\u001b[1;32m   1252\u001b[0m \u001b[43m\u001b[49m\u001b[43m)\u001b[49m \u001b[38;5;28;01mas\u001b[39;00m handle:\n\u001b[1;32m   1253\u001b[0m     stream \u001b[38;5;241m=\u001b[39m handle\u001b[38;5;241m.\u001b[39mhandle\n\u001b[1;32m   1254\u001b[0m     stream\u001b[38;5;241m.\u001b[39mseek(\u001b[38;5;241m0\u001b[39m)\n",
      "File \u001b[0;32m~/opt/anaconda3/lib/python3.9/site-packages/pandas/io/common.py:798\u001b[0m, in \u001b[0;36mget_handle\u001b[0;34m(path_or_buf, mode, encoding, compression, memory_map, is_text, errors, storage_options)\u001b[0m\n\u001b[1;32m    789\u001b[0m         handle \u001b[38;5;241m=\u001b[39m \u001b[38;5;28mopen\u001b[39m(\n\u001b[1;32m    790\u001b[0m             handle,\n\u001b[1;32m    791\u001b[0m             ioargs\u001b[38;5;241m.\u001b[39mmode,\n\u001b[0;32m   (...)\u001b[0m\n\u001b[1;32m    794\u001b[0m             newline\u001b[38;5;241m=\u001b[39m\u001b[38;5;124m\"\u001b[39m\u001b[38;5;124m\"\u001b[39m,\n\u001b[1;32m    795\u001b[0m         )\n\u001b[1;32m    796\u001b[0m     \u001b[38;5;28;01melse\u001b[39;00m:\n\u001b[1;32m    797\u001b[0m         \u001b[38;5;66;03m# Binary mode\u001b[39;00m\n\u001b[0;32m--> 798\u001b[0m         handle \u001b[38;5;241m=\u001b[39m \u001b[38;5;28;43mopen\u001b[39;49m\u001b[43m(\u001b[49m\u001b[43mhandle\u001b[49m\u001b[43m,\u001b[49m\u001b[43m \u001b[49m\u001b[43mioargs\u001b[49m\u001b[38;5;241;43m.\u001b[39;49m\u001b[43mmode\u001b[49m\u001b[43m)\u001b[49m\n\u001b[1;32m    799\u001b[0m     handles\u001b[38;5;241m.\u001b[39mappend(handle)\n\u001b[1;32m    801\u001b[0m \u001b[38;5;66;03m# Convert BytesIO or file objects passed with an encoding\u001b[39;00m\n",
      "\u001b[0;31mFileNotFoundError\u001b[0m: [Errno 2] No such file or directory: '/Users/risshail/Downloads/Target_Variable_Risshail.xlsx'"
     ]
    }
   ],
   "source": [
    "# read in indicator data\n",
    "GDP = pd.DataFrame(fred.get_series_latest_release('GDP')).reset_index()\n",
    "unemployment_rate = pd.DataFrame(fred.get_series_latest_release('UNRATE')).reset_index()\n",
    "mortgage_rate = pd.DataFrame(fred.get_series_latest_release('MORTGAGE30US')).reset_index()\n",
    "CPI = pd.DataFrame(fred.get_series_latest_release('CPIAUCSL')).reset_index()\n",
    "Tbill_year = pd.DataFrame(fred.get_series_latest_release('DTB1YR')).reset_index()\n",
    "HPI = pd.DataFrame(fred.get_series_latest_release('USSTHPI')).reset_index()\n",
    "ic = pd.DataFrame(fred.get_series_latest_release('ICSA')).reset_index()\n",
    "disp_inc = pd.DataFrame(fred.get_series_latest_release('A229RX0')).reset_index()\n",
    "consumer_con = pd.DataFrame(fred.get_series_latest_release('CSCICP03USM665S')).reset_index()\n",
    "business_con = pd.DataFrame(fred.get_series_latest_release('BSCICP03USM665S')).reset_index()\n",
    "\n",
    "macro_indicators = [GDP, unemployment_rate, mortgage_rate, CPI, Tbill_year, \n",
    "                    HPI, ic, disp_inc, consumer_con, business_con]\n",
    "\n",
    "# read in target data\n",
    "target = pd.read_excel('/Users/risshail/Downloads/Target_Variable_Risshail.xlsx',sheet_name='Sheet1')"
   ]
  },
  {
   "cell_type": "code",
   "execution_count": null,
   "id": "a066b975",
   "metadata": {},
   "outputs": [],
   "source": [
    "# index to time and standardize using datetime\n",
    "def fix_db(db):\n",
    "    db.columns = (\"Time\", \"indicator\")\n",
    "    db[\"Time\"] = pd.to_datetime(db[\"Time\"],format='%Y-%m-%d')\n",
    "    \n",
    "for ind in macro_indicators:\n",
    "    fix_db(ind)\n",
    "    \n",
    "# alter individual dataframes    \n",
    "GDP[\"GDP_growth_rate\"]=GDP[\"indicator\"].pct_change()*100\n",
    "GDP.drop([\"indicator\"], axis = 1, inplace = True)  \n",
    "\n",
    "# merge dataframs across time\n",
    "indicators_merged = reduce(lambda left,right: pd.merge(left,right,on=['Time'],\n",
    "                                              how='outer'), macro_indicators);\n",
    "indicators_merged.columns = (\"YYYY-MM-DD\", \"GDP_growth_rate\", \"unemployment_rate\", \"mortgage_rate\", \n",
    "                             \"CPI\", \"treasury_bill_rate_yr\", \"HPI\", \"inital_claims(weekly)\", \n",
    "                             \"disposeable_income\", \"consumer_confidence\", \"business_confidence\");\n",
    "indicators_merged = indicators_merged[indicators_merged[\"YYYY-MM-DD\"] >= datetime(2019, 1, 1)]\n",
    "indicators_merged = indicators_merged.sort_values(\"YYYY-MM-DD\", \n",
    "                                                  ascending = True).reset_index().drop(\"index\", axis = 1)\n",
    "\n",
    "\n",
    "# create dates column and merge\n",
    "date_range = pd.DataFrame(pd.to_datetime(pd.date_range(start = indicators_merged[\"YYYY-MM-DD\"].iloc[0], \n",
    "                                                       end = indicators_merged[\"YYYY-MM-DD\"].iloc[-1], \n",
    "                                                       freq='D'),format='%Y-%m-%d'))\n",
    "date_range.columns = [\"YYYY-MM-DD\"]\n",
    "indicators = pd.merge(date_range, indicators_merged, on=[\"YYYY-MM-DD\"], how='outer')\n",
    "\n",
    "# organise target variable and index to time\n",
    "target[\"YYYY-MM-DD\"] = pd.to_datetime(pd.date_range(end = \"2022-07-12\", \n",
    "                                                    periods=len(target), freq='W'),format='%Y-%m-%d')\n",
    "target.drop(\"Week#\", axis = 1, inplace = True)\n",
    "target.columns = [\"Target\", \"YYYY-MM-DD\"]\n",
    "target = target[[\"YYYY-MM-DD\", \"Target\"]]"
   ]
  },
  {
   "cell_type": "code",
   "execution_count": null,
   "id": "2280b393",
   "metadata": {},
   "outputs": [],
   "source": [
    "indicators.head()"
   ]
  },
  {
   "cell_type": "code",
   "execution_count": null,
   "id": "ad8d3b21",
   "metadata": {},
   "outputs": [],
   "source": [
    "target.head()"
   ]
  },
  {
   "cell_type": "code",
   "execution_count": null,
   "id": "396e7dba",
   "metadata": {},
   "outputs": [],
   "source": [
    "# find weekly averages for indicator data and merge the data with the target vairable and fill missing values\n",
    "weekly = indicators.ffill().groupby([[i//7 for i in range(0, len(indicators))]], \n",
    "                                      axis = 0).mean()\n",
    "\n",
    "weekly_date_range = pd.period_range(start = indicators[\"YYYY-MM-DD\"].iloc[0], \n",
    "                                    end = indicators[\"YYYY-MM-DD\"].iloc[-1], freq = 'W-SAT')\n",
    "weekly_date_range = weekly_date_range.map(str)\n",
    "weekly_date_range = weekly_date_range.str.split('/').str[0]\n",
    "weekly_date_range = pd.Series(weekly_date_range)\n",
    "\n",
    "weekly[\"YYYY-MM-DD\"] = pd.to_datetime(weekly_date_range)\n",
    "\n",
    "# merge weekly values with target variable\n",
    "df = pd.merge(target, weekly,  on = [\"YYYY-MM-DD\"], how = \"outer\")\n",
    "df = df.sort_values(\"YYYY-MM-DD\", ascending = True).reset_index().drop(\"index\", axis = 1)\n",
    "df = df[df[\"Target\"].isnull() == False].reset_index().drop([\"index\"], axis = 1)\n",
    "df = df.set_index(\"YYYY-MM-DD\")"
   ]
  },
  {
   "cell_type": "code",
   "execution_count": null,
   "id": "79319c71",
   "metadata": {},
   "outputs": [],
   "source": [
    "df.head()"
   ]
  },
  {
   "cell_type": "markdown",
   "id": "1f1ce219",
   "metadata": {},
   "source": [
    "### Deaseasonalizing Data"
   ]
  },
  {
   "cell_type": "code",
   "execution_count": null,
   "id": "9c52d371",
   "metadata": {},
   "outputs": [],
   "source": [
    "# identify data seasonality\n",
    "plt.figure(figsize=(12,6),dpi=150)\n",
    "sns.scatterplot(x='YYYY-MM-DD',y='Target',data=df,color='black')\n",
    "plt.axvline(x = pd.to_datetime(\"2019-07-14\"), color = \"red\")\n",
    "plt.axvline(x = pd.to_datetime(\"2020-07-05\"), color = \"red\")\n",
    "plt.axvline(x = pd.to_datetime(\"2021-07-04\"), color = \"red\")\n",
    "plt.axvline(x = pd.to_datetime(\"2022-07-03\"), color = \"red\")\n",
    "plt.suptitle(\"Target Values Plot Against Time\")\n",
    "plt.title(\"red stripes represent first week of september and lowest value each year\");\n",
    "\n",
    "# target variable is at minimum in the first week of September each year"
   ]
  },
  {
   "cell_type": "code",
   "execution_count": null,
   "id": "239444da",
   "metadata": {},
   "outputs": [],
   "source": [
    "# decomposing data to identify trend after deseasonalizing\n",
    "plt.rcParams['figure.figsize'] = (17,8)\n",
    "decomposition = sm.tsa.seasonal_decompose(df['Target'], model='additive', period = 52)\n",
    "fig = decomposition.plot()\n",
    "plt.show()"
   ]
  },
  {
   "cell_type": "code",
   "execution_count": null,
   "id": "6462ebd4",
   "metadata": {},
   "outputs": [],
   "source": [
    "# comparing mulitplicative and additive deseasonalisation\n",
    "fig,axes = plt.subplots(nrows=2,ncols=1)\n",
    "\n",
    "result_add = sm.tsa.seasonal_decompose(df['Target'], model='additive', period=52)\n",
    "deseasonalized_add = df['Target'].values - result_add.seasonal\n",
    "axes[0].plot(deseasonalized_add)\n",
    "axes[0].set_title('Target Deseasonalized Additive', fontsize=16)\n",
    "\n",
    "result_mul = sm.tsa.seasonal_decompose(df['Target'], model='multiplicative', period=52)\n",
    "deseasonalized_mul = df['Target'].values/result_mul.seasonal\n",
    "axes[1].plot(deseasonalized_mul)\n",
    "axes[1].set_title('Target Deseasonalized Multiplicative', fontsize=16)\n",
    "\n",
    "plt.plot();"
   ]
  },
  {
   "cell_type": "code",
   "execution_count": null,
   "id": "9a985c90",
   "metadata": {},
   "outputs": [],
   "source": [
    "# using multiplicative deseasonalization because of lower volatility\n",
    "desea_df = df\n",
    "desea_df[\"desea_target\"] = df['Target'].values / result_mul.seasonal\n",
    "desea_df = desea_df.drop([\"Target\"], axis = 1)\n",
    "cols = desea_df.columns.tolist()\n",
    "cols = cols[-1:] + cols[:-1]\n",
    "desea_df = desea_df[cols]"
   ]
  },
  {
   "cell_type": "code",
   "execution_count": null,
   "id": "1c76bc11",
   "metadata": {},
   "outputs": [],
   "source": [
    "desea_df.head()"
   ]
  },
  {
   "cell_type": "markdown",
   "id": "0dcb9190",
   "metadata": {},
   "source": [
    "### Picking Indicators"
   ]
  },
  {
   "cell_type": "code",
   "execution_count": null,
   "id": "0ee11f39",
   "metadata": {},
   "outputs": [],
   "source": [
    "# plotting all variables against time to understand trend\n",
    "fig, axes = plt.subplots(nrows=5, ncols=2, dpi=120, figsize=(10,10))\n",
    "for i, ax in enumerate(axes.flatten()):\n",
    "    data = desea_df[desea_df.columns[i]]\n",
    "    ax.plot(data, color='red', linewidth=1)\n",
    "    # Decorations\n",
    "    ax.set_title(desea_df.columns[i])\n",
    "    ax.xaxis.set_ticks_position('none')\n",
    "    ax.yaxis.set_ticks_position('none')\n",
    "    ax.spines[\"top\"].set_alpha(0)\n",
    "    ax.tick_params(labelsize=6)\n",
    "\n",
    "plt.tight_layout();"
   ]
  },
  {
   "cell_type": "code",
   "execution_count": null,
   "id": "77fd1e12",
   "metadata": {},
   "outputs": [],
   "source": [
    "# deseasonalised target against indicators\n",
    "sns.pairplot(data = desea_df, \n",
    "             y_vars = \"desea_target\");"
   ]
  },
  {
   "cell_type": "code",
   "execution_count": null,
   "id": "1f5af4e5",
   "metadata": {},
   "outputs": [],
   "source": [
    "# correlation of indicators with deseasonalised target\n",
    "desea_df.corr()"
   ]
  },
  {
   "cell_type": "markdown",
   "id": "44ffdddd",
   "metadata": {},
   "source": [
    "### Vector Autoregression Test"
   ]
  },
  {
   "cell_type": "code",
   "execution_count": null,
   "id": "786debb5",
   "metadata": {},
   "outputs": [],
   "source": [
    "#import modules\n",
    "from statsmodels.graphics.tsaplots import plot_acf, plot_pacf\n",
    "from statsmodels.tsa.statespace.varmax import VARMAX\n",
    "from statsmodels.tsa.api import VAR\n",
    "from statsmodels.tsa.stattools import grangercausalitytests, adfuller\n",
    "from tqdm import tqdm_notebook\n",
    "from itertools import product\n",
    "import statsmodels.api as sm\n",
    "from sklearn.metrics import mean_squared_error\n",
    "from sklearn.metrics import accuracy_score"
   ]
  },
  {
   "cell_type": "markdown",
   "id": "1a46589e",
   "metadata": {},
   "source": [
    "#### Seasonal Data"
   ]
  },
  {
   "cell_type": "code",
   "execution_count": null,
   "id": "5a32d133",
   "metadata": {},
   "outputs": [],
   "source": [
    "# creating testing and training data sets\n",
    "# data will be tested on the last 12 weeks of available data\n",
    "vardf = df[[\"Target\", \"mortgage_rate\"]]\n",
    "train_df = vardf[:-12]\n",
    "test_df = vardf[-12:]"
   ]
  },
  {
   "cell_type": "code",
   "execution_count": null,
   "id": "0eb5be3d",
   "metadata": {},
   "outputs": [],
   "source": [
    "# check stationarity of data\n",
    "ad_fuller_result_1 = adfuller(df['Target'].diff()[1:])\n",
    "\n",
    "print('deseasonalised_target')\n",
    "print(f'ADF Statistic: {ad_fuller_result_1[0]}')\n",
    "print(f'p-value: {ad_fuller_result_1[1]}')\n",
    "\n",
    "print('\\n---------------------\\n')\n",
    "\n",
    "ad_fuller_result_2 = adfuller(df['mortgage_rate'].diff()[2:])\n",
    "\n",
    "print('mortgage_rate')\n",
    "print(f'ADF Statistic: {ad_fuller_result_2[0]}')\n",
    "print(f'p-value: {ad_fuller_result_2[1]}')"
   ]
  },
  {
   "cell_type": "code",
   "execution_count": null,
   "id": "348b29e2",
   "metadata": {},
   "outputs": [],
   "source": [
    "test_var_model = VAR(train_df.diff()[2:].dropna())"
   ]
  },
  {
   "cell_type": "code",
   "execution_count": null,
   "id": "b5e1ae6a",
   "metadata": {},
   "outputs": [],
   "source": [
    "test_sorted_order = test_var_model.select_order(maxlags=10)\n",
    "print(test_sorted_order.summary())"
   ]
  },
  {
   "cell_type": "code",
   "execution_count": null,
   "id": "4c7f4938",
   "metadata": {},
   "outputs": [],
   "source": [
    "test_VAR_model = VARMAX(train_df, order=(4,0), enforce_stationarity = True)\n",
    "test_fitted_model = test_VAR_model.fit(disp=False)"
   ]
  },
  {
   "cell_type": "code",
   "execution_count": null,
   "id": "255afa68",
   "metadata": {},
   "outputs": [],
   "source": [
    "# Forecast target and mortgage rate for the next 12 weeks\n",
    "n_forecast = 12\n",
    "test_predict = test_fitted_model.get_prediction(start=len(train_df),end=len(train_df) + n_forecast-1)\n",
    "test_predictions = test_predict.predicted_mean\n",
    "test_predictions.rename_axis('YYYY-MM-DD', inplace = True)\n",
    "test_predictions[\"Target\"] = test_predictions[\"Target\"].abs()\n",
    "test_predictions.head()"
   ]
  },
  {
   "cell_type": "code",
   "execution_count": null,
   "id": "623e853b",
   "metadata": {},
   "outputs": [],
   "source": [
    "# plot target predictions against actual target values\n",
    "plt.figure(figsize=(12,6),dpi=150)\n",
    "plt.ylim(0, 180)\n",
    "sns.scatterplot(x='YYYY-MM-DD',y='Target',data=test_df,color='black')\n",
    "sns.scatterplot(x='YYYY-MM-DD',y='Target',data=test_predictions,color='red')\n",
    "plt.title(\"predicted target values(red) vs actual target values(black)\");"
   ]
  },
  {
   "cell_type": "code",
   "execution_count": null,
   "id": "1a5880b5",
   "metadata": {},
   "outputs": [],
   "source": [
    "test_vs_pred=pd.concat([test_df,test_predictions],axis=1)"
   ]
  },
  {
   "cell_type": "code",
   "execution_count": null,
   "id": "97756b25",
   "metadata": {},
   "outputs": [],
   "source": [
    "test_vs_pred.plot(figsize=(12,5))"
   ]
  },
  {
   "cell_type": "code",
   "execution_count": null,
   "id": "5268934c",
   "metadata": {},
   "outputs": [],
   "source": [
    "test_RMSE = np.sqrt(mean_squared_error(test_df[\"Target\"], test_predictions[\"Target\"]))\n",
    "print(\"RMSE:\", test_RMSE)"
   ]
  },
  {
   "cell_type": "markdown",
   "id": "c3ab2743",
   "metadata": {},
   "source": [
    "#### Deseasonalised Data"
   ]
  },
  {
   "cell_type": "code",
   "execution_count": null,
   "id": "3a8b8d3d",
   "metadata": {},
   "outputs": [],
   "source": [
    "# create dataframe with target and indicator\n",
    "vardf = desea_df[[\"desea_target\", \"mortgage_rate\"]]\n",
    "print(vardf.shape)"
   ]
  },
  {
   "cell_type": "code",
   "execution_count": null,
   "id": "eb39ef48",
   "metadata": {},
   "outputs": [],
   "source": [
    "# check stationarity of data\n",
    "ad_fuller_result_1 = adfuller(desea_df['desea_target'].diff()[2:])\n",
    "\n",
    "print('deseasonalised_target')\n",
    "print(f'ADF Statistic: {ad_fuller_result_1[0]}')\n",
    "print(f'p-value: {ad_fuller_result_1[1]}')\n",
    "\n",
    "print('\\n---------------------\\n')\n",
    "\n",
    "ad_fuller_result_2 = adfuller(desea_df['mortgage_rate'].diff()[2:])\n",
    "\n",
    "print('mortgage_rate')\n",
    "print(f'ADF Statistic: {ad_fuller_result_2[0]}')\n",
    "print(f'p-value: {ad_fuller_result_2[1]}')"
   ]
  },
  {
   "cell_type": "code",
   "execution_count": null,
   "id": "23dd5238",
   "metadata": {},
   "outputs": [],
   "source": [
    "# split data into training and testing data\n",
    "train_df = vardf[:-12]\n",
    "test_df = vardf[-12:]"
   ]
  },
  {
   "cell_type": "code",
   "execution_count": null,
   "id": "79cfb26c",
   "metadata": {},
   "outputs": [],
   "source": [
    "print(train_df.shape)"
   ]
  },
  {
   "cell_type": "code",
   "execution_count": null,
   "id": "ad892e4b",
   "metadata": {},
   "outputs": [],
   "source": [
    "test_var_model = VAR(train_df.diff()[2:].dropna())"
   ]
  },
  {
   "cell_type": "code",
   "execution_count": null,
   "id": "50b26645",
   "metadata": {},
   "outputs": [],
   "source": [
    "test_sorted_order = test_var_model.select_order(maxlags=10)\n",
    "print(test_sorted_order.summary())"
   ]
  },
  {
   "cell_type": "code",
   "execution_count": null,
   "id": "bea4b880",
   "metadata": {},
   "outputs": [],
   "source": [
    "test_VAR_model = VARMAX(train_df, order=(4,0), enforce_stationarity = True)\n",
    "test_fitted_model = test_VAR_model.fit(disp=False)"
   ]
  },
  {
   "cell_type": "code",
   "execution_count": null,
   "id": "33014a29",
   "metadata": {},
   "outputs": [],
   "source": [
    "# Forecast target and mortgage rate for the next 12 weeks\n",
    "n_forecast = 12\n",
    "test_predict = test_fitted_model.get_prediction(start=len(train_df),end=len(train_df) + n_forecast-1)\n",
    "test_predictions = test_predict.predicted_mean\n",
    "test_predictions.rename_axis('YYYY-MM-DD', inplace = True)\n",
    "test_predictions[\"desea_target\"] = test_predictions[\"desea_target\"].abs()\n",
    "test_predictions.head()"
   ]
  },
  {
   "cell_type": "code",
   "execution_count": null,
   "id": "01b29a9c",
   "metadata": {},
   "outputs": [],
   "source": [
    "# plot target predictions against actual target values\n",
    "plt.figure(figsize=(12,6),dpi=150)\n",
    "plt.ylim(0, 200)\n",
    "sns.scatterplot(x='YYYY-MM-DD',y='desea_target',data=test_df,color='black')\n",
    "sns.scatterplot(x='YYYY-MM-DD',y='desea_target',data=test_predictions,color='red')\n",
    "plt.title(\"predicted target values(red) vs actual target values(black)\");"
   ]
  },
  {
   "cell_type": "code",
   "execution_count": null,
   "id": "d090b906",
   "metadata": {},
   "outputs": [],
   "source": [
    "test_vs_pred=pd.concat([test_df,test_predictions],axis=1)"
   ]
  },
  {
   "cell_type": "code",
   "execution_count": null,
   "id": "9cf573e7",
   "metadata": {},
   "outputs": [],
   "source": [
    "test_vs_pred.plot(figsize=(12,5));"
   ]
  },
  {
   "cell_type": "code",
   "execution_count": null,
   "id": "11b8c917",
   "metadata": {},
   "outputs": [],
   "source": [
    "test_RMSE = np.sqrt(mean_squared_error(test_df[\"desea_target\"], test_predictions[\"desea_target\"]))\n",
    "print(\"RMSE:\", test_RMSE)"
   ]
  },
  {
   "cell_type": "code",
   "execution_count": null,
   "id": "095ecc81",
   "metadata": {},
   "outputs": [],
   "source": [
    "# Even though the RMSE is lower with seasonal data, the model isn't picking up the trend \n",
    "# therefore deseasonalised data is used for final predictions"
   ]
  },
  {
   "cell_type": "markdown",
   "id": "bff5774a",
   "metadata": {},
   "source": [
    "### Vector Autoregression Predictions"
   ]
  },
  {
   "cell_type": "code",
   "execution_count": null,
   "id": "787b5928",
   "metadata": {},
   "outputs": [],
   "source": [
    "# use the entire set of deseasonalised data\n",
    "pred_var_model = VAR(vardf.diff()[2:])"
   ]
  },
  {
   "cell_type": "code",
   "execution_count": null,
   "id": "37764aed",
   "metadata": {},
   "outputs": [],
   "source": [
    "pred_sorted_order = pred_var_model.select_order(maxlags=10)\n",
    "print(pred_sorted_order.summary())"
   ]
  },
  {
   "cell_type": "code",
   "execution_count": null,
   "id": "370c051c",
   "metadata": {},
   "outputs": [],
   "source": [
    "pred_VAR_model = VARMAX(vardf, order=(8,0),enforce_stationarity= True)\n",
    "pred_fitted_model = pred_VAR_model.fit(disp=False)\n",
    "\n",
    "# Predict target values for next 12 weeks\n",
    "n_forecast = 12\n",
    "pred_predict = pred_fitted_model.get_prediction(start=len(vardf),end=len(vardf) + n_forecast-1)\n",
    "pred_predictions = pred_predict.predicted_mean\n",
    "pred_predictions.rename_axis('YYYY-MM-DD', inplace = True)\n",
    "pred_predictions[\"desea_target\"] = pred_predictions[\"desea_target\"].abs()"
   ]
  },
  {
   "cell_type": "code",
   "execution_count": null,
   "id": "99ba1101",
   "metadata": {},
   "outputs": [],
   "source": [
    "pred_predictions.head()"
   ]
  },
  {
   "cell_type": "code",
   "execution_count": null,
   "id": "8e445ee3",
   "metadata": {},
   "outputs": [],
   "source": [
    "# plot deseasonalised predicted target values against actual target values\n",
    "plt.figure(figsize=(12,6),dpi=150)\n",
    "sns.scatterplot(x='YYYY-MM-DD',y='desea_target',data=vardf,color='black')\n",
    "sns.scatterplot(x='YYYY-MM-DD',y='desea_target',data=pred_predictions,color='red')\n",
    "plt.title(\"Predicted deseasonalised target values for the next 12 weeks\");"
   ]
  },
  {
   "cell_type": "code",
   "execution_count": null,
   "id": "400a3566",
   "metadata": {},
   "outputs": [],
   "source": [
    "predicted_df = vardf.append(pred_predictions)\n",
    "print(predicted_df.shape)"
   ]
  },
  {
   "cell_type": "markdown",
   "id": "f0072322",
   "metadata": {},
   "source": [
    "### Seasonalizing the data"
   ]
  },
  {
   "cell_type": "code",
   "execution_count": null,
   "id": "626e8046",
   "metadata": {},
   "outputs": [],
   "source": [
    "# extending seasonal data to match the length of the overall data\n",
    "seasonal = pd.DataFrame(result_mul.seasonal)\n",
    "seasonal = seasonal[:52].reset_index(drop = True)\n",
    "seasonal = seasonal.iloc[np.tile(np.arange(len(seasonal)), 4)].reset_index()\n",
    "seasonal = seasonal.drop(\"index\", axis = 1)\n",
    "seasonal = seasonal.iloc[:len(predicted_df)]"
   ]
  },
  {
   "cell_type": "code",
   "execution_count": null,
   "id": "d6b489a4",
   "metadata": {},
   "outputs": [],
   "source": [
    "# multiply seasonal values with deseasonalised predictions to get seasonalised predictions\n",
    "predicted_df = predicted_df.reset_index()\n",
    "seasonal_predictions = pd.merge(predicted_df, seasonal, left_index = True, right_index = True)\n",
    "seasonal_predictions.set_index(\"YYYY-MM-DD\", inplace = True)\n",
    "seasonal_predictions[\"Target\"] = seasonal_predictions[\"desea_target\"] * seasonal_predictions[\"seasonal\"]\n",
    "seasonal_predictions.tail(12)"
   ]
  },
  {
   "cell_type": "code",
   "execution_count": null,
   "id": "f7bb3db3",
   "metadata": {},
   "outputs": [],
   "source": [
    "plt.figure(figsize=(12,6),dpi=150)\n",
    "sns.scatterplot(x='YYYY-MM-DD',y=seasonal_predictions[\"Target\"].iloc[:-12],data=seasonal_predictions,color='black');\n",
    "sns.scatterplot(x='YYYY-MM-DD',y=seasonal_predictions[\"Target\"].iloc[-12:],data=seasonal_predictions,color='red')\n",
    "plt.title(\"Predicted seasonalised target values for the next 12 weeks\");"
   ]
  },
  {
   "cell_type": "code",
   "execution_count": null,
   "id": "428728ab",
   "metadata": {},
   "outputs": [],
   "source": []
  }
 ],
 "metadata": {
  "kernelspec": {
   "display_name": "Python 3 (ipykernel)",
   "language": "python",
   "name": "python3"
  },
  "language_info": {
   "codemirror_mode": {
    "name": "ipython",
    "version": 3
   },
   "file_extension": ".py",
   "mimetype": "text/x-python",
   "name": "python",
   "nbconvert_exporter": "python",
   "pygments_lexer": "ipython3",
   "version": "3.9.12"
  }
 },
 "nbformat": 4,
 "nbformat_minor": 5
}
